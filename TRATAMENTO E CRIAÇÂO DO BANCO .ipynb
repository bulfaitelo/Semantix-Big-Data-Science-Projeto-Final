{
 "cells": [
  {
   "cell_type": "markdown",
   "metadata": {},
   "source": [
    "# Procedimento de limpeza e criação da tabela para analise"
   ]
  },
  {
   "cell_type": "markdown",
   "metadata": {},
   "source": [
    "### Criando diretório"
   ]
  },
  {
   "cell_type": "code",
   "execution_count": 2,
   "metadata": {},
   "outputs": [
    {
     "name": "stdout",
     "output_type": "stream",
     "text": [
      "mkdir: `/user/projeto': File exists\r\n"
     ]
    }
   ],
   "source": [
    "!hdfs dfs -mkdir /user/projeto\n",
    "!hdfs dfs -mkdir /user/projeto/dados"
   ]
  },
  {
   "cell_type": "markdown",
   "metadata": {},
   "source": [
    "### Movendo o aruivo (previamente enviado via SMB)"
   ]
  },
  {
   "cell_type": "code",
   "execution_count": null,
   "metadata": {},
   "outputs": [],
   "source": [
    "!hdfs dfs -put /input/projeto/microdados_enem_2019/DADOS/MICRODADOS_ENEM_2019.csv /user/projeto/dados"
   ]
  },
  {
   "cell_type": "code",
   "execution_count": 3,
   "metadata": {},
   "outputs": [
    {
     "name": "stdout",
     "output_type": "stream",
     "text": [
      "120;100;120;60;500;C;F;A;D;7;C;A;B;C;A;A;B;A;B;B;A;A;A;B;B;A;E;A;A;B\r\n",
      "190006087652;2019;4302105;Bento Gon�alves;43;RS;21;M;0;0;1;4302105;Bento Gon�alves;43;RS;1;3;1;;0;;;;;;;;;0;0;1;0;0;0;0;0;0;0;0;0;0;0;0;0;0;0;0;0;0;0;0;0;0;0;0;0;0;0;0;0;0;0;0;0;0;0;0;0;0;0;0;0;0;0;0;0;0;0;0;4302105;Bento Gon�alves;43;RS;0;0;0;0;;;;;;;;;;;;;0;;;;;;;;;;;;E;E;D;D;3;C;A;B;C;B;A;B;A;B;A;A;A;A;B;A;A;C;B;B;B\r\n",
      "190006087653;2019;4302105;Bento Gon�alves;43;RS;22;M;0;0;1;4302105;Bento Gon�alves;43;RS;1;3;1;;0;;;;;;;;;0;0;1;0;0;0;0;0;0;0;0;0;0;0;0;0;0;0;0;0;0;0;0;0;0;0;0;0;0;0;0;0;0;0;0;0;0;0;0;0;0;0;0;0;0;0;0;0;0;0;0;4302105;Bento Gon�alves;43;RS;0;0;0;0;;;;;;;;;;;;;0;;;;;;;;;;;;H;C;F;F;3;A;A;B;C;A;A;B;B;B;A;B;A;A;C;B;B;A;A;A;B\r\n",
      "190006087654;2019;4302105;Bento Gon�alves;43;RS;21;F;0;0;1;4217709;Sombrio;42;SC;1;3;1;;0;;;;;;;;;0;0;1;0;0;0;0;0;0;0;0;0;0;0;0;0;0;0;0;0;0;0;0;0;0;0;0;0;0;0;0;0;0;0;0;0;0;0;0;0;0;0;0;0;0;0;0;0;0;0;0;4302105;Bento Gon�alves;43;RS;0;0;0;0;;;;;;;;;;;;;1;;;;;;;;;;;;H;H;F;F;3;C;A;B;C;B;A;B;A;B;A;A;A;A;B;A;A;B;B;B;B\r\n"
     ]
    }
   ],
   "source": [
    "#conferindo se está oK\n",
    "!hdfs dfs -tail /user/projeto/dados/MICRODADOS_ENEM_2019.csv"
   ]
  },
  {
   "cell_type": "markdown",
   "metadata": {},
   "source": [
    "### Lendo CSV do HDFS dentro do spark"
   ]
  },
  {
   "cell_type": "code",
   "execution_count": 3,
   "metadata": {},
   "outputs": [],
   "source": [
    "data = spark.read.option(\"header\", \"True\").option(\"sep\", \";\").option(\"encoding\", \"ISO-8859-1\").schema(\"NU_INSCRICAO double, NU_ANO int, CO_MUNICIPIO_RESIDENCIA string, NO_MUNICIPIO_RESIDENCIA string, CO_UF_RESIDENCIA string, SG_UF_RESIDENCIA string, NU_IDADE int, TP_SEXO string, TP_ESTADO_CIVIL string, TP_COR_RACA string, TP_NACIONALIDADE string, CO_MUNICIPIO_NASCIMENTO string, NO_MUNICIPIO_NASCIMENTO string, CO_UF_NASCIMENTO string, SG_UF_NASCIMENTO string, TP_ST_CONCLUSAO string, TP_ANO_CONCLUIU string, TP_ESCOLA string, TP_ENSINO string, IN_TREINEIRO string, CO_ESCOLA string, CO_MUNICIPIO_ESC string, NO_MUNICIPIO_ESC string, CO_UF_ESC string, SG_UF_ESC string, TP_DEPENDENCIA_ADM_ESC string, TP_LOCALIZACAO_ESC string, TP_SIT_FUNC_ESC string, IN_BAIXA_VISAO string, IN_CEGUEIRA string, IN_SURDEZ string, IN_DEFICIENCIA_AUDITIVA string, IN_SURDO_CEGUEIRA string, IN_DEFICIENCIA_FISICA string, IN_DEFICIENCIA_MENTAL string, IN_DEFICIT_ATENCAO string, IN_DISLEXIA string, IN_DISCALCULIA string, IN_AUTISMO string, IN_VISAO_MONOCULAR string, IN_OUTRA_DEF string, IN_GESTANTE string, IN_LACTANTE string, IN_IDOSO string, IN_ESTUDA_CLASSE_HOSPITALAR string, IN_SEM_RECURSO string, IN_BRAILLE string, IN_AMPLIADA_24 string, IN_AMPLIADA_18 string, IN_LEDOR string, IN_ACESSO string, IN_TRANSCRICAO string, IN_LIBRAS string, IN_TEMPO_ADICIONAL string, IN_LEITURA_LABIAL string, IN_MESA_CADEIRA_RODAS string, IN_MESA_CADEIRA_SEPARADA string, IN_APOIO_PERNA string, IN_GUIA_INTERPRETE string, IN_COMPUTADOR string, IN_CADEIRA_ESPECIAL string, IN_CADEIRA_CANHOTO string, IN_CADEIRA_ACOLCHOADA string, IN_PROVA_DEITADO string, IN_MOBILIARIO_OBESO string, IN_LAMINA_OVERLAY string, IN_PROTETOR_AURICULAR string, IN_MEDIDOR_GLICOSE string, IN_MAQUINA_BRAILE string, IN_SOROBAN string, IN_MARCA_PASSO string, IN_SONDA string, IN_MEDICAMENTOS string, IN_SALA_INDIVIDUAL string, IN_SALA_ESPECIAL string, IN_SALA_ACOMPANHANTE string, IN_MOBILIARIO_ESPECIFICO string, IN_MATERIAL_ESPECIFICO string, IN_NOME_SOCIAL string, CO_MUNICIPIO_PROVA string, NO_MUNICIPIO_PROVA string, CO_UF_PROVA string, SG_UF_PROVA string, TP_PRESENCA_CN string, TP_PRESENCA_CH string, TP_PRESENCA_LC string, TP_PRESENCA_MT string, CO_PROVA_CN string, CO_PROVA_CH string, CO_PROVA_LC string, CO_PROVA_MT string, NU_NOTA_CN float, NU_NOTA_CH float, NU_NOTA_LC float, NU_NOTA_MT float, TX_RESPOSTAS_CN string, TX_RESPOSTAS_CH string, TX_RESPOSTAS_LC string, TX_RESPOSTAS_MT string, TP_LINGUA string, TX_GABARITO_CN string, TX_GABARITO_CH string, TX_GABARITO_LC string, TX_GABARITO_MT string, TP_STATUS_REDACAO string, NU_NOTA_COMP1 int, NU_NOTA_COMP2 int, NU_NOTA_COMP3 int, NU_NOTA_COMP4 int, NU_NOTA_COMP5 int, NU_NOTA_REDACAO int, Q001 string, Q002 string, Q003 string, Q004 string, Q005 string, Q006 string, Q007 string, Q008 string, Q009 string, Q010 string, Q011 string, Q012 string, Q013 string, Q014 string, Q015 string, Q016 string, Q017 string, Q018 string, Q019 string, Q020 string, Q021 string, Q022 string, Q023 string, Q024 string, Q025 string\").csv(\"/user/projeto/dados/MICRODADOS_ENEM_2019.csv\")"
   ]
  },
  {
   "cell_type": "markdown",
   "metadata": {},
   "source": [
    "### Remonvendo colunas"
   ]
  },
  {
   "cell_type": "markdown",
   "metadata": {},
   "source": [
    "#### Foi necessário agressivo porque estavam gerando erro ao migrar de junto do warning de muitas colunas, devido ao tempo curto optei por seguir dessa maneira."
   ]
  },
  {
   "cell_type": "code",
   "execution_count": 4,
   "metadata": {},
   "outputs": [],
   "source": [
    "data_1 = data.drop(\n",
    "    \"NU_INSCRICAO\", \"NU_ANO\", \"CO_PROVA_CN\", \"CO_PROVA_CH\", \"CO_PROVA_LC\", \"CO_PROVA_MT\", \"CO_MUNICIPIO_RESIDENCIA\", \"CO_UF_RESIDENCIA\", \"CO_MUNICIPIO_NASCIMENTO\", \"CO_UF_NASCIMENTO\",\n",
    "    \"CO_ESCOLA\", \"CO_MUNICIPIO_ESC\", \"CO_UF_ESC\", \"TP_SIT_FUNC_ESC\", \"CO_MUNICIPIO_PROVA\", \"CO_UF_PROVA\", \n",
    "    \"IN_BAIXA_VISAO\", \"IN_CEGUEIRA\", \"IN_SURDEZ\", \"IN_DEFICIENCIA_AUDITIVA\", \"IN_SURDO_CEGUEIRA\", \"IN_DEFICIENCIA_FISICA\", \"IN_DEFICIENCIA_MENTAL\", \"IN_DEFICIT_ATENCAO\", \"IN_DISLEXIA\", \"IN_DISCALCULIA\", \"IN_AUTISMO\", \"IN_VISAO_MONOCULAR\", \"IN_OUTRA_DEF\", \"IN_GESTANTE\", \"IN_LACTANTE\", \"IN_IDOSO\", \"IN_ESTUDA_CLASSE_HOSPITALAR\", \"IN_SEM_RECURSO\", \"IN_BRAILLE\", \"IN_AMPLIADA_24\", \"IN_AMPLIADA_18\", \"IN_LEDOR\", \"IN_ACESSO\", \"IN_TRANSCRICAO\", \"IN_LIBRAS\", \"IN_TEMPO_ADICIONAL\", \"IN_LEITURA_LABIAL\", \"IN_MESA_CADEIRA_RODAS\", \"IN_MESA_CADEIRA_SEPARADA\", \"IN_APOIO_PERNA\", \"IN_GUIA_INTERPRETE\", \"IN_COMPUTADOR\", \"IN_CADEIRA_ESPECIAL\", \"IN_CADEIRA_CANHOTO\", \"IN_CADEIRA_ACOLCHOADA\", \"IN_PROVA_DEITADO\", \"IN_MOBILIARIO_OBESO\", \"IN_LAMINA_OVERLAY\", \"IN_PROTETOR_AURICULAR\", \"IN_MEDIDOR_GLICOSE\", \"IN_MAQUINA_BRAILE\", \"IN_SOROBAN\", \"IN_MARCA_PASSO\", \"IN_SONDA\", \"IN_MEDICAMENTOS\", \"IN_SALA_INDIVIDUAL\", \"IN_SALA_ESPECIAL\", \"IN_SALA_ACOMPANHANTE\", \"IN_MOBILIARIO_ESPECIFICO\", \"IN_MATERIAL_ESPECIFICO\", \"IN_NOME_SOCIAL\",     \n",
    "    \"NU_NOTA_CN\", \"NU_NOTA_CH\", \"NU_NOTA_LC\", \"NU_NOTA_MT\",\n",
    "    \"TX_RESPOSTAS_CN\", \"TX_RESPOSTAS_CH\",\"TX_RESPOSTAS_LC\", \"TX_RESPOSTAS_MT\", \"TX_GABARITO_CN\",\"TX_GABARITO_CH\",\"TX_GABARITO_LC\", \"TX_GABARITO_MT\"\n",
    ")\n"
   ]
  },
  {
   "cell_type": "markdown",
   "metadata": {},
   "source": [
    "### Gravando no formato Parquet (não foram realizadas muitas mudanças além da compressão)"
   ]
  },
  {
   "cell_type": "code",
   "execution_count": null,
   "metadata": {},
   "outputs": [],
   "source": [
    "data_1.write.option(\"compression\", \"snappy\").parquet('/user/projeto/parquet')"
   ]
  },
  {
   "cell_type": "code",
   "execution_count": 4,
   "metadata": {},
   "outputs": [
    {
     "name": "stdout",
     "output_type": "stream",
     "text": [
      "Found 25 items\n",
      "-rw-r--r--   2 root supergroup          0 2021-12-07 18:25 /user/projeto/parquet/_SUCCESS\n",
      "-rw-r--r--   2 root supergroup    4903776 2021-12-07 18:24 /user/projeto/parquet/part-00000-833d5a0b-ac60-4cfa-9e62-6a04fa5d315b-c000.snappy.parquet\n",
      "-rw-r--r--   2 root supergroup    4897052 2021-12-07 18:24 /user/projeto/parquet/part-00001-833d5a0b-ac60-4cfa-9e62-6a04fa5d315b-c000.snappy.parquet\n",
      "-rw-r--r--   2 root supergroup    4871086 2021-12-07 18:24 /user/projeto/parquet/part-00002-833d5a0b-ac60-4cfa-9e62-6a04fa5d315b-c000.snappy.parquet\n",
      "-rw-r--r--   2 root supergroup    4869108 2021-12-07 18:24 /user/projeto/parquet/part-00003-833d5a0b-ac60-4cfa-9e62-6a04fa5d315b-c000.snappy.parquet\n",
      "-rw-r--r--   2 root supergroup    4868101 2021-12-07 18:24 /user/projeto/parquet/part-00004-833d5a0b-ac60-4cfa-9e62-6a04fa5d315b-c000.snappy.parquet\n",
      "-rw-r--r--   2 root supergroup    4915217 2021-12-07 18:24 /user/projeto/parquet/part-00005-833d5a0b-ac60-4cfa-9e62-6a04fa5d315b-c000.snappy.parquet\n",
      "-rw-r--r--   2 root supergroup    4941602 2021-12-07 18:24 /user/projeto/parquet/part-00006-833d5a0b-ac60-4cfa-9e62-6a04fa5d315b-c000.snappy.parquet\n",
      "-rw-r--r--   2 root supergroup    4929705 2021-12-07 18:24 /user/projeto/parquet/part-00007-833d5a0b-ac60-4cfa-9e62-6a04fa5d315b-c000.snappy.parquet\n",
      "-rw-r--r--   2 root supergroup    4923810 2021-12-07 18:24 /user/projeto/parquet/part-00008-833d5a0b-ac60-4cfa-9e62-6a04fa5d315b-c000.snappy.parquet\n",
      "-rw-r--r--   2 root supergroup    4960255 2021-12-07 18:24 /user/projeto/parquet/part-00009-833d5a0b-ac60-4cfa-9e62-6a04fa5d315b-c000.snappy.parquet\n",
      "-rw-r--r--   2 root supergroup    4910583 2021-12-07 18:24 /user/projeto/parquet/part-00010-833d5a0b-ac60-4cfa-9e62-6a04fa5d315b-c000.snappy.parquet\n",
      "-rw-r--r--   2 root supergroup    5007439 2021-12-07 18:24 /user/projeto/parquet/part-00011-833d5a0b-ac60-4cfa-9e62-6a04fa5d315b-c000.snappy.parquet\n",
      "-rw-r--r--   2 root supergroup    4982433 2021-12-07 18:25 /user/projeto/parquet/part-00012-833d5a0b-ac60-4cfa-9e62-6a04fa5d315b-c000.snappy.parquet\n",
      "-rw-r--r--   2 root supergroup    4959339 2021-12-07 18:25 /user/projeto/parquet/part-00013-833d5a0b-ac60-4cfa-9e62-6a04fa5d315b-c000.snappy.parquet\n",
      "-rw-r--r--   2 root supergroup    4914507 2021-12-07 18:25 /user/projeto/parquet/part-00014-833d5a0b-ac60-4cfa-9e62-6a04fa5d315b-c000.snappy.parquet\n",
      "-rw-r--r--   2 root supergroup    5006555 2021-12-07 18:25 /user/projeto/parquet/part-00015-833d5a0b-ac60-4cfa-9e62-6a04fa5d315b-c000.snappy.parquet\n",
      "-rw-r--r--   2 root supergroup    4996309 2021-12-07 18:25 /user/projeto/parquet/part-00016-833d5a0b-ac60-4cfa-9e62-6a04fa5d315b-c000.snappy.parquet\n",
      "-rw-r--r--   2 root supergroup    5042479 2021-12-07 18:25 /user/projeto/parquet/part-00017-833d5a0b-ac60-4cfa-9e62-6a04fa5d315b-c000.snappy.parquet\n",
      "-rw-r--r--   2 root supergroup    5064303 2021-12-07 18:25 /user/projeto/parquet/part-00018-833d5a0b-ac60-4cfa-9e62-6a04fa5d315b-c000.snappy.parquet\n",
      "-rw-r--r--   2 root supergroup    5086823 2021-12-07 18:25 /user/projeto/parquet/part-00019-833d5a0b-ac60-4cfa-9e62-6a04fa5d315b-c000.snappy.parquet\n",
      "-rw-r--r--   2 root supergroup    5120530 2021-12-07 18:25 /user/projeto/parquet/part-00020-833d5a0b-ac60-4cfa-9e62-6a04fa5d315b-c000.snappy.parquet\n",
      "-rw-r--r--   2 root supergroup    5176494 2021-12-07 18:25 /user/projeto/parquet/part-00021-833d5a0b-ac60-4cfa-9e62-6a04fa5d315b-c000.snappy.parquet\n",
      "-rw-r--r--   2 root supergroup    5270181 2021-12-07 18:25 /user/projeto/parquet/part-00022-833d5a0b-ac60-4cfa-9e62-6a04fa5d315b-c000.snappy.parquet\n",
      "-rw-r--r--   2 root supergroup    4484905 2021-12-07 18:25 /user/projeto/parquet/part-00023-833d5a0b-ac60-4cfa-9e62-6a04fa5d315b-c000.snappy.parquet\n"
     ]
    }
   ],
   "source": [
    "#Conferindo:\n",
    "!hdfs dfs -ls /user/projeto/parquet"
   ]
  }
 ],
 "metadata": {
  "kernelspec": {
   "display_name": "PySpark",
   "language": "python",
   "name": "pyspark"
  },
  "language_info": {
   "codemirror_mode": {
    "name": "ipython",
    "version": 3
   },
   "file_extension": ".py",
   "mimetype": "text/x-python",
   "name": "python",
   "nbconvert_exporter": "python",
   "pygments_lexer": "ipython3",
   "version": "3.6.10"
  }
 },
 "nbformat": 4,
 "nbformat_minor": 2
}
